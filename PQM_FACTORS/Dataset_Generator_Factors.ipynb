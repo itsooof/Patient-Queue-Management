{
 "cells": [
  {
   "cell_type": "code",
   "execution_count": 15,
   "metadata": {},
   "outputs": [
    {
     "name": "stdout",
     "output_type": "stream",
     "text": [
      "Dataset generated and saved successfully.\n"
     ]
    }
   ],
   "source": [
    "import pandas as pd\n",
    "import numpy as np\n",
    "# Define the ranges for each factor\n",
    "ranges = {\n",
    "    \"Diastolic Blood Pressure (mmHg)\": {\"normal\": (60, 80), \"low\": (40, 60), \"high\": (90, 120)},\n",
    "    \"Systolic Blood Pressure (mmHg)\": {\"normal\": (90, 120), \"low\": (60, 90), \"high\": (125, 150)},\n",
    "    \"Blood Sugar Level (mg/dL)\": {\"normal\": (70, 120), \"low\": (40, 69), \"high\": (151, 350)},\n",
    "    \"Oxygen Level (%)\": {\"normal\": (95, 100), \"low\": (30, 70)},\n",
    "    \"Heart Rate (beatspm)\": {\"normal\": (60, 100), \"low\": (30, 55), \"high\": (101, 130)},\n",
    "    \"Body Temperature (F)\": {\"normal\": (97.5, 98.9), \"high\": (102, 106)},\n",
    "    \"Breathing Rate (breathspm)\": {\"normal\": (12, 18), \"low\": (0, 10), \"high\": (17, 32)},\n",
    "    \"Urinalysis (pH)\": {\"normal\": (4.5, 7.0), \"high\": (7.1, 14)},\n",
    "    \"Peak Flow\": {\"normal\": (80, 100), \"low\": (60, 80), \"high\": (100, 120)},\n",
    "    \"Hydration Level (%)\": {\"normal\": (45, 65), \"low\": (30, 40)}  # No specific range provided\n",
    "\n",
    "}\n",
    "\n",
    "# Define seriousness levels\n",
    "seriousness_levels = [\n",
    "    \"Minimal\",\n",
    "    \"Trivial\",\n",
    "    \"Mild\",\n",
    "    \"Moderate\",\n",
    "    \"Significant\",\n",
    "    \"Serious\",\n",
    "    \"High\",\n",
    "    \"Critical\",\n",
    "    \"Urgent\",\n",
    "    \"Emergency\"\n",
    "]\n",
    "\n",
    "def generate_single_row(ranges):\n",
    "    row = {}\n",
    "    for factor, ranges_info in ranges.items():\n",
    "        if factor == \"Hydration Level (%)\":\n",
    "            # For factors without specific high/low ranges, generate a random value within the normal range\n",
    "            normal_range = ranges_info[\"normal\"]\n",
    "            row[factor] = np.random.uniform(normal_range[0], normal_range[1])\n",
    "        else:\n",
    "            # For factors with high/low ranges, randomly choose between normal, high, or low if the range is specified\n",
    "            if \"high\" in ranges_info and \"low\" in ranges_info:\n",
    "                value_range = np.random.choice([\"normal\", \"low\", \"high\"], p=[0.7, 0.15, 0.15])\n",
    "            elif \"high\" in ranges_info:\n",
    "                value_range = np.random.choice([\"normal\", \"high\"], p=[0.85, 0.15])\n",
    "            elif \"low\" in ranges_info:\n",
    "                value_range = np.random.choice([\"normal\", \"low\"], p=[0.85, 0.15])\n",
    "            else:\n",
    "                value_range = \"normal\"\n",
    "            \n",
    "            row[factor] = np.random.uniform(ranges_info[value_range][0], ranges_info[value_range][1])\n",
    "        row[factor] = round(row[factor],2)\n",
    "    return row\n",
    "\n",
    "\n",
    "\n",
    "\n",
    "# Generate dataset with equal number of seriousness levels\n",
    "num_rows_per_level = 100\n",
    "data = []\n",
    "for level in seriousness_levels:\n",
    "    for _ in range(num_rows_per_level):\n",
    "        row = generate_single_row(ranges)\n",
    "        row[\"Seriousness\"] = level\n",
    "        data.append(row)\n",
    "\n",
    "# Create DataFrame\n",
    "df = pd.DataFrame(data)\n",
    "\n",
    "# Save the dataset to a CSV file\n",
    "df.to_csv(\"generated_dataset.csv\", index=False)\n",
    "\n",
    "print(\"Dataset generated and saved successfully.\")"
   ]
  }
 ],
 "metadata": {
  "kernelspec": {
   "display_name": "base",
   "language": "python",
   "name": "python3"
  },
  "language_info": {
   "codemirror_mode": {
    "name": "ipython",
    "version": 3
   },
   "file_extension": ".py",
   "mimetype": "text/x-python",
   "name": "python",
   "nbconvert_exporter": "python",
   "pygments_lexer": "ipython3",
   "version": "3.11.5"
  }
 },
 "nbformat": 4,
 "nbformat_minor": 2
}
