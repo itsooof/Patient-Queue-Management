{
 "cells": [
  {
   "cell_type": "code",
   "execution_count": 1,
   "metadata": {},
   "outputs": [],
   "source": [
    "import pandas as pd\n",
    "import joblib"
   ]
  },
  {
   "cell_type": "code",
   "execution_count": 2,
   "metadata": {},
   "outputs": [],
   "source": [
    "loaded_model = joblib.load('trained_model.pkl')"
   ]
  },
  {
   "cell_type": "code",
   "execution_count": 12,
   "metadata": {},
   "outputs": [
    {
     "data": {
      "text/plain": [
       "'\\n62.91,92.11,82.88,96.56,67.83,97.66,14.81,5.92,90.05,57.05,Moderate\\n75.09,105.79,79.87,97.5,93.82,98.37,13.15,6.92,89.46,61.8,Minimal\\n66.92,143.08,102.43,99.79,99.84,97.66,28.12,5.01,94.72,62.22,Minimal\\n60.0,92.42,93.45,38.38,71.87,97.55,12.5,4.98,91.87,58.19,Mild\\n77.31,103.74,99.61,95.48,93.79,98.47,26.02,5.99,89.91,45.78,Significant\\n64.01,97.72,269.56,98.81,39.47,98.09,12.62,5.8,75.7,51.78,Minimal\\n64.66,110.96,162.92,96.72,76.41,102.98,12.36,11.53,85.91,58.76,Significant\\n119.62,90.43,95.18,95.48,93.08,98.27,13.07,10.26,99.22,48.91,Critical\\n55.81,70.54,201.06,34.33,77.89,98.76,16.41,6.02,83.29,46.18,Emergency\\n72.96,148.61,70.52,38.48,79.26,97.59,15.95,6.59,84.58,48.15,High\\n'"
      ]
     },
     "execution_count": 12,
     "metadata": {},
     "output_type": "execute_result"
    }
   ],
   "source": [
    "'''\n",
    "62.91,92.11,82.88,96.56,67.83,97.66,14.81,5.92,90.05,57.05,Moderate\n",
    "75.09,105.79,79.87,97.5,93.82,98.37,13.15,6.92,89.46,61.8,Minimal\n",
    "66.92,143.08,102.43,99.79,99.84,97.66,28.12,5.01,94.72,62.22,Minimal\n",
    "60.0,92.42,93.45,38.38,71.87,97.55,12.5,4.98,91.87,58.19,Mild\n",
    "77.31,103.74,99.61,95.48,93.79,98.47,26.02,5.99,89.91,45.78,Significant\n",
    "64.01,97.72,269.56,98.81,39.47,98.09,12.62,5.8,75.7,51.78,Minimal\n",
    "64.66,110.96,162.92,96.72,76.41,102.98,12.36,11.53,85.91,58.76,Significant\n",
    "119.62,90.43,95.18,95.48,93.08,98.27,13.07,10.26,99.22,48.91,Critical\n",
    "55.81,70.54,201.06,34.33,77.89,98.76,16.41,6.02,83.29,46.18,Emergency\n",
    "72.96,148.61,70.52,38.48,79.26,97.59,15.95,6.59,84.58,48.15,High\n",
    "'''"
   ]
  },
  {
   "cell_type": "code",
   "execution_count": 3,
   "metadata": {},
   "outputs": [],
   "source": [
    "data = []\n",
    "with open(\"user_data.csv\") as f:\n",
    "    for line in f:\n",
    "        values = line.strip().split(\",\")\n",
    "        data.append(values)\n",
    "\n",
    "user_data = pd.DataFrame(data, columns=['Diastolic Blood Pressure (mmHg)', 'Systolic Blood Pressure (mmHg)',\n",
    "       'Blood Sugar Level (mg/dL)', 'Oxygen Level (%)', 'Heart Rate (beatspm)',\n",
    "       'Body Temperature (F)', 'Breathing Rate (breathspm)', 'Urinalysis (pH)',\n",
    "       'Peak Flow', 'Hydration Level (%)'])"
   ]
  },
  {
   "cell_type": "code",
   "execution_count": null,
   "metadata": {},
   "outputs": [],
   "source": [
    "user_output = loaded_model.predict(user_data)\n",
    "print(user_output)"
   ]
  },
  {
   "cell_type": "code",
   "execution_count": 7,
   "metadata": {},
   "outputs": [
    {
     "name": "stderr",
     "output_type": "stream",
     "text": [
      "c:\\Users\\Dell\\anaconda3\\Lib\\site-packages\\sklearn\\base.py:493: UserWarning: X does not have valid feature names, but StandardScaler was fitted with feature names\n",
      "  warnings.warn(\n"
     ]
    },
    {
     "name": "stdout",
     "output_type": "stream",
     "text": [
      "1/1 [==============================] - 0s 209ms/step\n",
      "[[1.81121146e-03 5.79884313e-02 1.96834282e-08 8.84571136e-08\n",
      "  6.49048843e-06 1.00885122e-03 1.31384039e-03 1.87671702e-07\n",
      "  7.77572452e-04 9.37093318e-01]\n",
      " [2.52100849e-03 8.74732272e-04 3.81244236e-17 3.00135538e-20\n",
      "  1.44004253e-11 3.38483463e-09 9.52260627e-04 1.03723419e-10\n",
      "  2.52911736e-08 9.95652020e-01]\n",
      " [5.67422365e-04 2.39671412e-04 3.60171944e-02 4.74588603e-01\n",
      "  3.80010274e-03 2.17155404e-02 6.14040531e-04 1.83453842e-03\n",
      "  4.60304528e-01 3.18413629e-04]\n",
      " [2.36764113e-13 2.03560374e-16 3.60762020e-09 9.99908924e-01\n",
      "  3.48103586e-23 2.02777592e-05 4.85750657e-22 7.05811253e-05\n",
      "  2.34610667e-07 9.54973750e-27]\n",
      " [2.25178134e-08 1.03314285e-28 9.69755005e-12 4.64911276e-34\n",
      "  3.35042671e-07 2.64347840e-30 9.99576747e-01 4.22953017e-04\n",
      "  1.53343085e-11 2.70261638e-16]\n",
      " [1.08718155e-02 3.32416850e-04 1.18191242e-02 8.37394316e-03\n",
      "  2.72045122e-03 9.22525488e-03 9.83475987e-03 1.96938086e-02\n",
      "  9.25948083e-01 1.18035742e-03]\n",
      " [0.00000000e+00 0.00000000e+00 0.00000000e+00 1.00000000e+00\n",
      "  0.00000000e+00 1.28210240e-29 0.00000000e+00 7.93790294e-12\n",
      "  0.00000000e+00 0.00000000e+00]\n",
      " [9.22376175e-10 7.05735630e-34 1.26622649e-12 0.00000000e+00\n",
      "  8.67104788e-08 2.31772603e-35 9.99421835e-01 5.78014238e-04\n",
      "  2.63345986e-13 1.59400677e-19]\n",
      " [1.95292557e-07 2.49567256e-09 1.76807167e-04 9.93221998e-01\n",
      "  7.38752531e-11 1.43017003e-03 7.51235463e-11 2.05859449e-03\n",
      "  3.11220833e-03 2.45945110e-13]\n",
      " [6.39094086e-03 4.84195352e-02 1.22367288e-03 8.19843728e-03\n",
      "  1.84250530e-02 4.76337187e-02 2.01657470e-02 1.04179759e-04\n",
      "  2.58453280e-01 5.90985417e-01]]\n"
     ]
    }
   ],
   "source": [
    "import numpy as np\n",
    "import pandas as pd\n",
    "from sklearn.preprocessing import StandardScaler\n",
    "\n",
    "# User data\n",
    "user_data = np.array([\n",
    "    [62.91, 92.11, 82.88, 96.56, 67.83, 97.66, 14.81, 5.92, 90.05, 57.05],\n",
    "    [75.09, 105.79, 79.87, 97.5, 93.82, 98.37, 13.15, 6.92, 89.46, 61.8],\n",
    "    [66.92, 143.08, 102.43, 99.79, 99.84, 97.66, 28.12, 5.01, 94.72, 62.22],\n",
    "    [60.0, 92.42, 93.45, 38.38, 71.87, 97.55, 12.5, 4.98, 91.87, 58.19],\n",
    "    [77.31, 103.74, 99.61, 95.48, 93.79, 98.47, 26.02, 5.99, 89.91, 45.78],\n",
    "    [64.01, 97.72, 269.56, 98.81, 39.47, 98.09, 12.62, 5.8, 75.7, 51.78],\n",
    "    [64.66, 110.96, 162.92, 96.72, 76.41, 102.98, 12.36, 11.53, 85.91, 58.76],\n",
    "    [119.62, 90.43, 95.18, 95.48, 93.08, 98.27, 13.07, 10.26, 99.22, 48.91],\n",
    "    [55.81, 70.54, 201.06, 34.33, 77.89, 98.76, 16.41, 6.02, 83.29, 46.18],\n",
    "    [72.96, 148.61, 70.52, 38.48, 79.26, 97.59, 15.95, 6.59, 84.58, 48.15]\n",
    "])\n",
    "\n",
    "# Load and preprocess the data\n",
    "data = pd.read_csv(\"PQM_FACTORS.csv\")\n",
    "features = data.columns.difference(['Seriousness'])\n",
    "X = data[features]\n",
    "scaler = StandardScaler()\n",
    "scaler.fit(X)\n",
    "\n",
    "# Preprocess the user data\n",
    "user_data_scaled = scaler.transform(user_data)\n",
    "\n",
    "# Make predictions using the loaded model\n",
    "user_output = loaded_model.predict(user_data_scaled)\n",
    "print(user_output)\n"
   ]
  },
  {
   "cell_type": "code",
   "execution_count": 8,
   "metadata": {},
   "outputs": [
    {
     "name": "stdout",
     "output_type": "stream",
     "text": [
      "[[array([1.8112115e-03, 5.7988431e-02, 1.9683428e-08, 8.8457114e-08,\n",
      "       6.4904884e-06, 1.0088512e-03, 1.3138404e-03, 1.8767170e-07,\n",
      "       7.7757245e-04, 9.3709332e-01], dtype=float32), 'Patient1'], [array([2.5210085e-03, 8.7473227e-04, 3.8124424e-17, 3.0013554e-20,\n",
      "       1.4400425e-11, 3.3848346e-09, 9.5226063e-04, 1.0372342e-10,\n",
      "       2.5291174e-08, 9.9565202e-01], dtype=float32), 'Patient2'], [array([5.6742236e-04, 2.3967141e-04, 3.6017194e-02, 4.7458860e-01,\n",
      "       3.8001027e-03, 2.1715540e-02, 6.1404053e-04, 1.8345384e-03,\n",
      "       4.6030453e-01, 3.1841363e-04], dtype=float32), 'Patient3'], [array([2.3676411e-13, 2.0356037e-16, 3.6076202e-09, 9.9990892e-01,\n",
      "       3.4810359e-23, 2.0277759e-05, 4.8575066e-22, 7.0581125e-05,\n",
      "       2.3461067e-07, 9.5497375e-27], dtype=float32), 'Patient4'], [array([2.2517813e-08, 1.0331429e-28, 9.6975501e-12, 4.6491128e-34,\n",
      "       3.3504267e-07, 2.6434784e-30, 9.9957675e-01, 4.2295302e-04,\n",
      "       1.5334308e-11, 2.7026164e-16], dtype=float32), 'Patient5'], [array([1.08718155e-02, 3.32416850e-04, 1.18191242e-02, 8.37394316e-03,\n",
      "       2.72045122e-03, 9.22525488e-03, 9.83475987e-03, 1.96938086e-02,\n",
      "       9.25948083e-01, 1.18035742e-03], dtype=float32), 'Patient6'], [array([0.0000000e+00, 0.0000000e+00, 0.0000000e+00, 1.0000000e+00,\n",
      "       0.0000000e+00, 1.2821024e-29, 0.0000000e+00, 7.9379029e-12,\n",
      "       0.0000000e+00, 0.0000000e+00], dtype=float32), 'Patient7'], [array([9.2237618e-10, 7.0573563e-34, 1.2662265e-12, 0.0000000e+00,\n",
      "       8.6710479e-08, 2.3177260e-35, 9.9942183e-01, 5.7801424e-04,\n",
      "       2.6334599e-13, 1.5940068e-19], dtype=float32), 'Patient8'], [array([1.9529256e-07, 2.4956726e-09, 1.7680717e-04, 9.9322200e-01,\n",
      "       7.3875253e-11, 1.4301700e-03, 7.5123546e-11, 2.0585945e-03,\n",
      "       3.1122083e-03, 2.4594511e-13], dtype=float32), 'Patient9'], [array([6.3909409e-03, 4.8419535e-02, 1.2236729e-03, 8.1984373e-03,\n",
      "       1.8425053e-02, 4.7633719e-02, 2.0165747e-02, 1.0417976e-04,\n",
      "       2.5845328e-01, 5.9098542e-01], dtype=float32), 'Patient10']]\n"
     ]
    }
   ],
   "source": [
    "user_queue = []\n",
    "for i in range(len(user_output)):\n",
    "    user_queue.append([user_output[i],\"Patient\"+str(i+1)])\n",
    "print(user_queue)"
   ]
  },
  {
   "cell_type": "code",
   "execution_count": 9,
   "metadata": {},
   "outputs": [
    {
     "name": "stdout",
     "output_type": "stream",
     "text": [
      "[['Emergency', 'Patient9'], ['Critical', 'Patient8'], ['High', 'Patient10'], ['Significant', 'Patient7'], ['Significant', 'Patient5'], ['Moderate', 'Patient1'], ['Mild', 'Patient4'], ['Minimal', 'Patient6'], ['Minimal', 'Patient3'], ['Minimal', 'Patient2']]\n"
     ]
    }
   ],
   "source": [
    "sorting_order = [\"Minimal\", \"Trivial\", \"Mild\", \"Moderate\", \"Significant\",\n",
    "                 \"Serious\", \"High\", \"Critical\", \"Urgent\", \"Emergency\"]\n",
    "\n",
    "user_queue = [['Moderate', 'Patient1'], ['Minimal', 'Patient2'], ['Minimal', 'Patient3'],\n",
    "              ['Mild', 'Patient4'], ['Significant', 'Patient5'], ['Minimal', 'Patient6'],\n",
    "              ['Significant', 'Patient7'], ['Critical', 'Patient8'], ['Emergency', 'Patient9'],\n",
    "              ['High', 'Patient10']]\n",
    "\n",
    "# Define a key function based on the sorting order\n",
    "def custom_sort(item):\n",
    "   return sorting_order.index(item[0])\n",
    "\n",
    "# Sort the user_queue using the custom key function\n",
    "sorted_user_queue = sorted(user_queue, key=custom_sort)\n",
    "sorted_user_queue.reverse()\n",
    "print(sorted_user_queue)"
   ]
  },
  {
   "cell_type": "code",
   "execution_count": 10,
   "metadata": {},
   "outputs": [],
   "source": [
    "with open(\"write.txt\", \"w\") as file:\n",
    "    for i, queue_item in enumerate(sorted_user_queue, start=1):\n",
    "        condition, patient = queue_item\n",
    "        file.write(f\"Condition: {condition} - {patient} - Token No.: {i}\\n\")"
   ]
  },
  {
   "cell_type": "code",
   "execution_count": 12,
   "metadata": {},
   "outputs": [
    {
     "data": {
      "text/plain": [
       "True"
      ]
     },
     "execution_count": 12,
     "metadata": {},
     "output_type": "execute_result"
    }
   ],
   "source": [
    "import webbrowser\n",
    "\n",
    "url = \"http://localhost/PDC/output.php\"  # Replace with the desired URL\n",
    "\n",
    "# Open the URL in the default browser\n",
    "webbrowser.open(url)\n"
   ]
  }
 ],
 "metadata": {
  "kernelspec": {
   "display_name": "base",
   "language": "python",
   "name": "python3"
  },
  "language_info": {
   "codemirror_mode": {
    "name": "ipython",
    "version": 3
   },
   "file_extension": ".py",
   "mimetype": "text/x-python",
   "name": "python",
   "nbconvert_exporter": "python",
   "pygments_lexer": "ipython3",
   "version": "3.11.5"
  }
 },
 "nbformat": 4,
 "nbformat_minor": 2
}
