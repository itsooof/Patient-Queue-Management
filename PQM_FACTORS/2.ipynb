{
 "cells": [
  {
   "cell_type": "code",
   "execution_count": 10,
   "metadata": {},
   "outputs": [],
   "source": [
    "import pandas as pd\n",
    "import joblib"
   ]
  },
  {
   "cell_type": "code",
   "execution_count": 11,
   "metadata": {},
   "outputs": [],
   "source": [
    "loaded_model = joblib.load('decision_tree_model.pkl')"
   ]
  },
  {
   "cell_type": "code",
   "execution_count": 12,
   "metadata": {},
   "outputs": [
    {
     "data": {
      "text/plain": [
       "'\\n62.91,92.11,82.88,96.56,67.83,97.66,14.81,5.92,90.05,57.05,Moderate\\n75.09,105.79,79.87,97.5,93.82,98.37,13.15,6.92,89.46,61.8,Minimal\\n66.92,143.08,102.43,99.79,99.84,97.66,28.12,5.01,94.72,62.22,Minimal\\n60.0,92.42,93.45,38.38,71.87,97.55,12.5,4.98,91.87,58.19,Mild\\n77.31,103.74,99.61,95.48,93.79,98.47,26.02,5.99,89.91,45.78,Significant\\n64.01,97.72,269.56,98.81,39.47,98.09,12.62,5.8,75.7,51.78,Minimal\\n64.66,110.96,162.92,96.72,76.41,102.98,12.36,11.53,85.91,58.76,Significant\\n119.62,90.43,95.18,95.48,93.08,98.27,13.07,10.26,99.22,48.91,Critical\\n55.81,70.54,201.06,34.33,77.89,98.76,16.41,6.02,83.29,46.18,Emergency\\n72.96,148.61,70.52,38.48,79.26,97.59,15.95,6.59,84.58,48.15,High\\n'"
      ]
     },
     "execution_count": 12,
     "metadata": {},
     "output_type": "execute_result"
    }
   ],
   "source": [
    "'''\n",
    "62.91,92.11,82.88,96.56,67.83,97.66,14.81,5.92,90.05,57.05,Moderate\n",
    "75.09,105.79,79.87,97.5,93.82,98.37,13.15,6.92,89.46,61.8,Minimal\n",
    "66.92,143.08,102.43,99.79,99.84,97.66,28.12,5.01,94.72,62.22,Minimal\n",
    "60.0,92.42,93.45,38.38,71.87,97.55,12.5,4.98,91.87,58.19,Mild\n",
    "77.31,103.74,99.61,95.48,93.79,98.47,26.02,5.99,89.91,45.78,Significant\n",
    "64.01,97.72,269.56,98.81,39.47,98.09,12.62,5.8,75.7,51.78,Minimal\n",
    "64.66,110.96,162.92,96.72,76.41,102.98,12.36,11.53,85.91,58.76,Significant\n",
    "119.62,90.43,95.18,95.48,93.08,98.27,13.07,10.26,99.22,48.91,Critical\n",
    "55.81,70.54,201.06,34.33,77.89,98.76,16.41,6.02,83.29,46.18,Emergency\n",
    "72.96,148.61,70.52,38.48,79.26,97.59,15.95,6.59,84.58,48.15,High\n",
    "'''"
   ]
  },
  {
   "cell_type": "code",
   "execution_count": 13,
   "metadata": {},
   "outputs": [],
   "source": [
    "data = []\n",
    "with open(\"user_data.csv\") as f:\n",
    "    for line in f:\n",
    "        values = line.strip().split(\",\")\n",
    "        data.append(values)\n",
    "\n",
    "user_data = pd.DataFrame(data, columns=['Diastolic Blood Pressure (mmHg)', 'Systolic Blood Pressure (mmHg)',\n",
    "       'Blood Sugar Level (mg/dL)', 'Oxygen Level (%)', 'Heart Rate (beatspm)',\n",
    "       'Body Temperature (F)', 'Breathing Rate (breathspm)', 'Urinalysis (pH)',\n",
    "       'Peak Flow', 'Hydration Level (%)'])"
   ]
  },
  {
   "cell_type": "code",
   "execution_count": 14,
   "metadata": {},
   "outputs": [
    {
     "name": "stdout",
     "output_type": "stream",
     "text": [
      "['Moderate' 'Minimal' 'Minimal' 'Mild' 'Significant' 'Minimal'\n",
      " 'Significant' 'Critical' 'Emergency' 'High']\n"
     ]
    }
   ],
   "source": [
    "user_output = loaded_model.predict(user_data)\n",
    "print(user_output)"
   ]
  },
  {
   "cell_type": "code",
   "execution_count": 15,
   "metadata": {},
   "outputs": [
    {
     "name": "stdout",
     "output_type": "stream",
     "text": [
      "[['Moderate', 'Patient1'], ['Minimal', 'Patient2'], ['Minimal', 'Patient3'], ['Mild', 'Patient4'], ['Significant', 'Patient5'], ['Minimal', 'Patient6'], ['Significant', 'Patient7'], ['Critical', 'Patient8'], ['Emergency', 'Patient9'], ['High', 'Patient10']]\n"
     ]
    }
   ],
   "source": [
    "user_queue = []\n",
    "for i in range(len(user_output)):\n",
    "    user_queue.append([user_output[i],\"Patient\"+str(i+1)])\n",
    "print(user_queue)"
   ]
  },
  {
   "cell_type": "code",
   "execution_count": 16,
   "metadata": {},
   "outputs": [
    {
     "name": "stdout",
     "output_type": "stream",
     "text": [
      "[['Emergency', 'Patient9'], ['Critical', 'Patient8'], ['High', 'Patient10'], ['Significant', 'Patient7'], ['Significant', 'Patient5'], ['Moderate', 'Patient1'], ['Mild', 'Patient4'], ['Minimal', 'Patient6'], ['Minimal', 'Patient3'], ['Minimal', 'Patient2']]\n"
     ]
    }
   ],
   "source": [
    "sorting_order = [\"Minimal\", \"Trivial\", \"Mild\", \"Moderate\", \"Significant\",\n",
    "                 \"Serious\", \"High\", \"Critical\", \"Urgent\", \"Emergency\"]\n",
    "\n",
    "user_queue = [['Moderate', 'Patient1'], ['Minimal', 'Patient2'], ['Minimal', 'Patient3'],\n",
    "              ['Mild', 'Patient4'], ['Significant', 'Patient5'], ['Minimal', 'Patient6'],\n",
    "              ['Significant', 'Patient7'], ['Critical', 'Patient8'], ['Emergency', 'Patient9'],\n",
    "              ['High', 'Patient10']]\n",
    "\n",
    "# Define a key function based on the sorting order\n",
    "def custom_sort(item):\n",
    "   return sorting_order.index(item[0])\n",
    "\n",
    "# Sort the user_queue using the custom key function\n",
    "sorted_user_queue = sorted(user_queue, key=custom_sort)\n",
    "sorted_user_queue.reverse()\n",
    "print(sorted_user_queue)"
   ]
  },
  {
   "cell_type": "code",
   "execution_count": 17,
   "metadata": {},
   "outputs": [],
   "source": [
    "with open(\"write.txt\", \"w\") as file:\n",
    "    for i, queue_item in enumerate(sorted_user_queue, start=1):\n",
    "        condition, patient = queue_item\n",
    "        file.write(f\"Condition: {condition} - {patient} - Token No.: {i}\\n\")"
   ]
  },
  {
   "cell_type": "code",
   "execution_count": 18,
   "metadata": {},
   "outputs": [
    {
     "data": {
      "text/plain": [
       "True"
      ]
     },
     "execution_count": 18,
     "metadata": {},
     "output_type": "execute_result"
    }
   ],
   "source": [
    "import webbrowser\n",
    "\n",
    "url = \"http://localhost/PDC/output.php\"  # Replace with the desired URL\n",
    "\n",
    "# Open the URL in the default browser\n",
    "webbrowser.open(url)\n"
   ]
  }
 ],
 "metadata": {
  "kernelspec": {
   "display_name": "base",
   "language": "python",
   "name": "python3"
  },
  "language_info": {
   "codemirror_mode": {
    "name": "ipython",
    "version": 3
   },
   "file_extension": ".py",
   "mimetype": "text/x-python",
   "name": "python",
   "nbconvert_exporter": "python",
   "pygments_lexer": "ipython3",
   "version": "3.9.7"
  }
 },
 "nbformat": 4,
 "nbformat_minor": 2
}
