{
 "cells": [
  {
   "cell_type": "code",
   "execution_count": 1,
   "metadata": {},
   "outputs": [],
   "source": [
    "import numpy as np\n",
    "import pandas as pd\n",
    "from sklearn.model_selection import train_test_split\n",
    "from sklearn.metrics import accuracy_score \n",
    "from sklearn.tree import DecisionTreeClassifier\n",
    "from sklearn.neighbors import KNeighborsClassifier\n",
    "from sklearn.linear_model import LogisticRegression\n",
    "from sklearn.naive_bayes import GaussianNB\n",
    "from sklearn.svm import SVC\n",
    "from sklearn.ensemble import RandomForestClassifier, GradientBoostingClassifier\n",
    "from sklearn.neural_network import MLPClassifier\n",
    "from sklearn.ensemble import AdaBoostClassifier\n",
    "from sklearn.discriminant_analysis import QuadraticDiscriminantAnalysis\n",
    "from sklearn.discriminant_analysis import LinearDiscriminantAnalysis\n",
    "from sklearn.preprocessing import StandardScaler\n"
   ]
  },
  {
   "cell_type": "code",
   "execution_count": null,
   "metadata": {},
   "outputs": [
    {
     "ename": "",
     "evalue": "",
     "output_type": "error",
     "traceback": [
      "\u001b[1;31mThe kernel failed to start as ' C extension module was built for another version of psutil (5.9.0 instead of 5.9.6); you may try to ' could not be imported from '5.9.0 instead of 5.9.6'.\n",
      "\u001b[1;31mClick <a href='https://aka.ms/kernelFailuresModuleImportErrFromFile'>here</a> for more info."
     ]
    }
   ],
   "source": [
    "data = pd.read_csv(\"PQM_FACTORS.csv\")\n",
    "data.head()"
   ]
  },
  {
   "cell_type": "code",
   "execution_count": 58,
   "metadata": {},
   "outputs": [],
   "source": [
    "features = data.drop('Seriousness', axis=1)\n",
    "X = features\n",
    "Y = data[\"Seriousness\"]"
   ]
  },
  {
   "cell_type": "code",
   "execution_count": 59,
   "metadata": {},
   "outputs": [],
   "source": [
    "from sklearn.model_selection import train_test_split\n",
    "from sklearn.metrics import accuracy_score\n",
    "X_train, X_test, y_train, y_test = train_test_split(X, Y, test_size = 0.2, random_state = 0)"
   ]
  },
  {
   "cell_type": "code",
   "execution_count": 60,
   "metadata": {},
   "outputs": [],
   "source": [
    "accuracy = []\n",
    "model = []"
   ]
  },
  {
   "cell_type": "code",
   "execution_count": 61,
   "metadata": {},
   "outputs": [],
   "source": [
    "# 1. Decision Tree Classifier\n",
    "c_DT1 = DecisionTreeClassifier(criterion='gini', random_state=0)\n",
    "c_DT1.fit(X_train, y_train)\n",
    "try_predDT1 = c_DT1.predict(X_test)\n",
    "accuracy.append(accuracy_score(y_test, try_predDT1))\n",
    "model.append(\"Decision Tree Gini\")\n",
    "\n",
    "c_DT2 = DecisionTreeClassifier(criterion='entropy', random_state=0)\n",
    "c_DT2.fit(X_train, y_train)\n",
    "try_predDT2 = c_DT2.predict(X_test)\n",
    "accuracy.append(accuracy_score(y_test, try_predDT2))\n",
    "model.append(\"Decision Tree Entropy\")"
   ]
  },
  {
   "cell_type": "code",
   "execution_count": 62,
   "metadata": {},
   "outputs": [],
   "source": [
    "# 2. K-Nearest Neighbors Classifier\n",
    "maxi = 0\n",
    "k = 0\n",
    "for i in range(1, 20):\n",
    "    c_KNN = KNeighborsClassifier(n_neighbors=i)\n",
    "    c_KNN.fit(X_train, y_train)\n",
    "    try_predKNN = c_KNN.predict(X_test)\n",
    "    if maxi < accuracy_score(y_test, try_predKNN):\n",
    "        maxi = accuracy_score(y_test, try_predKNN)\n",
    "        k = i\n",
    "\n",
    "c_KNN = KNeighborsClassifier(n_neighbors=k)\n",
    "c_KNN.fit(X_train, y_train)\n",
    "try_predKNN = c_KNN.predict(X_test)\n",
    "accuracy.append(accuracy_score(y_test, try_predKNN))\n",
    "model.append(\"KNN for k=\" + str(k))"
   ]
  },
  {
   "cell_type": "code",
   "execution_count": 63,
   "metadata": {},
   "outputs": [],
   "source": [
    "# 3. Logistic Regression\n",
    "c_LR = LogisticRegression(max_iter=100000)\n",
    "c_LR.fit(X_train, y_train)\n",
    "try_predLR = c_LR.predict(X_test)\n",
    "accuracy.append(accuracy_score(y_test, try_predLR))\n",
    "model.append(\"Logistic Regression\")"
   ]
  },
  {
   "cell_type": "code",
   "execution_count": 64,
   "metadata": {},
   "outputs": [],
   "source": [
    "# 4. Gaussian Naive Bayes\n",
    "gaussian = GaussianNB()\n",
    "gaussian.fit(X_train, y_train)\n",
    "try_predNB = gaussian.predict(X_test)\n",
    "accuracy.append(accuracy_score(y_test, try_predNB))\n",
    "model.append(\"GaussianNB\")"
   ]
  },
  {
   "cell_type": "code",
   "execution_count": 65,
   "metadata": {},
   "outputs": [
    {
     "data": {
      "text/plain": [
       "'\\nhyperparameters = [\\n    [\"linear\",10],\\n    [\"linear\",50],\\n    [\"linear\",100],\\n    [\"linear\",500],\\n    [\"linear\",1000],\\n    [\"poly\",10],\\n    [\"poly\",50],\\n    [\"poly\",100],\\n    [\"poly\",500],\\n    [\"poly\",1000],\\n    [\"rbf\",10],\\n    [\"rbf\",50],\\n    [\"rbf\",100],\\n    [\"rbf\",500],\\n    [\"rbf\",1000],\\n    [\"sigmoid\",10],\\n    [\"sigmoid\",50],\\n    [\"sigmoid\",100],\\n    [\"sigmoid\",500],\\n    [\"sigmoid\",1000]\\n]\\nmaxs = 0\\nkernelval = \"\"\\nCval = 0\\nfor KFFC in hyperparameters:\\n    print(KFFC)\\n    svc = SVC(kernel=KFFC[0], C=KFFC[1])\\n    scaler = StandardScaler()\\n    Xtrain = scaler.fit_transform(X_train)\\n    svc.fit(Xtrain, y_train)\\n    try_predSVM = svc.predict(scaler.transform(X_test))\\n    if maxs < accuracy_score(y_test, try_predSVM):\\n        maxs = accuracy_score(y_test, try_predSVM)\\n        kernelval = KFFC[0]\\n        Cval = KFFC[1]\\n\\nsvc = SVC(kernel=kernelval, C=Cval)\\nscaler = StandardScaler()\\nXtrain = scaler.fit_transform(X_train)\\nsvc.fit(Xtrain, y_train)\\ntry_predSVM = svc.predict(scaler.transform(X_test))\\naccuracy.append(accuracy_score(y_test, try_predSVM))\\nmodel.append(\"SVM for kernel =\" + kernelval + \" C =\" + str(Cval))\\n'"
      ]
     },
     "execution_count": 65,
     "metadata": {},
     "output_type": "execute_result"
    }
   ],
   "source": [
    "# 5. Support Vector Machine (SVM) Classifier\n",
    "'''\n",
    "hyperparameters = [\n",
    "    [\"linear\",10],\n",
    "    [\"linear\",50],\n",
    "    [\"linear\",100],\n",
    "    [\"linear\",500],\n",
    "    [\"linear\",1000],\n",
    "    [\"poly\",10],\n",
    "    [\"poly\",50],\n",
    "    [\"poly\",100],\n",
    "    [\"poly\",500],\n",
    "    [\"poly\",1000],\n",
    "    [\"rbf\",10],\n",
    "    [\"rbf\",50],\n",
    "    [\"rbf\",100],\n",
    "    [\"rbf\",500],\n",
    "    [\"rbf\",1000],\n",
    "    [\"sigmoid\",10],\n",
    "    [\"sigmoid\",50],\n",
    "    [\"sigmoid\",100],\n",
    "    [\"sigmoid\",500],\n",
    "    [\"sigmoid\",1000]\n",
    "]\n",
    "maxs = 0\n",
    "kernelval = \"\"\n",
    "Cval = 0\n",
    "for KFFC in hyperparameters:\n",
    "    print(KFFC)\n",
    "    svc = SVC(kernel=KFFC[0], C=KFFC[1])\n",
    "    scaler = StandardScaler()\n",
    "    Xtrain = scaler.fit_transform(X_train)\n",
    "    svc.fit(Xtrain, y_train)\n",
    "    try_predSVM = svc.predict(scaler.transform(X_test))\n",
    "    if maxs < accuracy_score(y_test, try_predSVM):\n",
    "        maxs = accuracy_score(y_test, try_predSVM)\n",
    "        kernelval = KFFC[0]\n",
    "        Cval = KFFC[1]\n",
    "\n",
    "svc = SVC(kernel=kernelval, C=Cval)\n",
    "scaler = StandardScaler()\n",
    "Xtrain = scaler.fit_transform(X_train)\n",
    "svc.fit(Xtrain, y_train)\n",
    "try_predSVM = svc.predict(scaler.transform(X_test))\n",
    "accuracy.append(accuracy_score(y_test, try_predSVM))\n",
    "model.append(\"SVM for kernel =\" + kernelval + \" C =\" + str(Cval))\n",
    "'''\n"
   ]
  },
  {
   "cell_type": "code",
   "execution_count": 66,
   "metadata": {},
   "outputs": [],
   "source": [
    "# 6. Random Forest Classifier\n",
    "c_rf = RandomForestClassifier(n_estimators=10, random_state=0)\n",
    "c_rf.fit(X_train, y_train)\n",
    "try_predrf = c_rf.predict(X_test)\n",
    "accuracy.append(accuracy_score(y_test, try_predrf))\n",
    "model.append(\"Random Forest\")"
   ]
  },
  {
   "cell_type": "code",
   "execution_count": 67,
   "metadata": {},
   "outputs": [],
   "source": [
    "# 7. Gradient Boosting Classifier\n",
    "gb_clf = GradientBoostingClassifier(n_estimators=100, learning_rate=0.1, max_depth=1, random_state=0)\n",
    "gb_clf.fit(X_train, y_train)\n",
    "try_predGB = gb_clf.predict(X_test)\n",
    "accuracy.append(accuracy_score(y_test, try_predGB))\n",
    "model.append(\"Gradient Boosting Classifier\")"
   ]
  },
  {
   "cell_type": "code",
   "execution_count": 68,
   "metadata": {},
   "outputs": [],
   "source": [
    "# 8. MLP Classifier (Neural Network)\n",
    "mlp_clf = MLPClassifier(hidden_layer_sizes=(100,), max_iter=1000, random_state=0)\n",
    "mlp_clf.fit(X_train, y_train)\n",
    "try_predMLP = mlp_clf.predict(X_test)\n",
    "accuracy.append(accuracy_score(y_test, try_predMLP))\n",
    "model.append(\"MLP Classifier\")"
   ]
  },
  {
   "cell_type": "code",
   "execution_count": 69,
   "metadata": {},
   "outputs": [],
   "source": [
    "# 9. AdaBoost Classifier\n",
    "ada_clf = AdaBoostClassifier(n_estimators=50, random_state=0)\n",
    "ada_clf.fit(X_train, y_train)\n",
    "try_predAda = ada_clf.predict(X_test)\n",
    "accuracy.append(accuracy_score(y_test, try_predAda))\n",
    "model.append(\"AdaBoost Classifier\")"
   ]
  },
  {
   "cell_type": "code",
   "execution_count": 70,
   "metadata": {},
   "outputs": [],
   "source": [
    "# 10. Quadratic Discriminant Analysis\n",
    "qda_clf = QuadraticDiscriminantAnalysis()\n",
    "qda_clf.fit(X_train, y_train)\n",
    "try_predQDA = qda_clf.predict(X_test)\n",
    "accuracy.append(accuracy_score(y_test, try_predQDA))\n",
    "model.append(\"Quadratic Discriminant Analysis\")"
   ]
  },
  {
   "cell_type": "code",
   "execution_count": 71,
   "metadata": {},
   "outputs": [],
   "source": [
    "acc_f = [i*100 for i in accuracy]"
   ]
  },
  {
   "cell_type": "code",
   "execution_count": 72,
   "metadata": {},
   "outputs": [
    {
     "name": "stdout",
     "output_type": "stream",
     "text": [
      "98.0\n",
      "Decision Tree Gini\n",
      "[98.0, 97.5, 97.5, 14.000000000000002, 13.0, 96.83333333333334, 25.0, 14.499999999999998, 16.166666666666664, 19.333333333333332]\n",
      "['Decision Tree Gini', 'Decision Tree Entropy', 'KNN for k=1', 'Logistic Regression', 'GaussianNB', 'Random Forest', 'Gradient Boosting Classifier', 'MLP Classifier', 'AdaBoost Classifier', 'Quadratic Discriminant Analysis']\n"
     ]
    }
   ],
   "source": [
    "print(max(acc_f))\n",
    "print(model[acc_f.index(max(acc_f))])\n",
    "\n",
    "print(acc_f)\n",
    "print(model)"
   ]
  },
  {
   "cell_type": "code",
   "execution_count": 73,
   "metadata": {},
   "outputs": [
    {
     "name": "stdout",
     "output_type": "stream",
     "text": [
      "Mean Accuracy: 96.30%\n"
     ]
    }
   ],
   "source": [
    "from sklearn.model_selection import cross_val_score, KFold\n",
    "k = 5\n",
    "kf = KFold(n_splits=k, shuffle=True, random_state=0)\n",
    "scores = cross_val_score(c_DT1, X, Y, cv=kf)\n",
    "mean_accuracy = scores.mean()\n",
    "print(\"Mean Accuracy: {:.2f}%\".format(mean_accuracy * 100))"
   ]
  },
  {
   "cell_type": "code",
   "execution_count": 74,
   "metadata": {},
   "outputs": [
    {
     "data": {
      "text/plain": [
       "['decision_tree_model.pkl']"
      ]
     },
     "execution_count": 74,
     "metadata": {},
     "output_type": "execute_result"
    }
   ],
   "source": [
    "import joblib\n",
    "joblib.dump(c_DT1, 'decision_tree_model.pkl')"
   ]
  },
  {
   "cell_type": "code",
   "execution_count": 75,
   "metadata": {},
   "outputs": [
    {
     "data": {
      "text/plain": [
       "DecisionTreeClassifier(random_state=0)"
      ]
     },
     "execution_count": 75,
     "metadata": {},
     "output_type": "execute_result"
    }
   ],
   "source": [
    "from sklearn.tree import DecisionTreeClassifier\n",
    "\n",
    "# Assuming X_train and y_train contain your training features and labels respectively\n",
    "c_DT1 = DecisionTreeClassifier(criterion='gini', random_state=0)\n",
    "c_DT1.fit(X_train, y_train)\n"
   ]
  },
  {
   "cell_type": "code",
   "execution_count": 76,
   "metadata": {},
   "outputs": [],
   "source": [
    "import pickle\n",
    "\n",
    "# Save the model to a file\n",
    "with open('retrained_decision_tree_model.pkl', 'wb') as f:\n",
    "    pickle.dump(c_DT1, f)\n"
   ]
  },
  {
   "cell_type": "code",
   "execution_count": 77,
   "metadata": {},
   "outputs": [
    {
     "name": "stdout",
     "output_type": "stream",
     "text": [
      "The retrained model has the 'predict' method.\n"
     ]
    }
   ],
   "source": [
    "# Load the retrained model\n",
    "with open('retrained_decision_tree_model.pkl', 'rb') as f:\n",
    "    loaded_model = pickle.load(f)\n",
    "\n",
    "# Check if the model has the predict method\n",
    "if hasattr(loaded_model, 'predict'):\n",
    "    print(\"The retrained model has the 'predict' method.\")\n",
    "else:\n",
    "    print(\"The retrained model does not have the 'predict' method.\")\n"
   ]
  },
  {
   "cell_type": "code",
   "execution_count": 79,
   "metadata": {},
   "outputs": [
    {
     "name": "stdout",
     "output_type": "stream",
     "text": [
      "Name: scikit-learn\n",
      "Version: 1.4.0\n",
      "Summary: A set of python modules for machine learning and data mining\n",
      "Home-page: https://scikit-learn.org\n",
      "Author: \n",
      "Author-email: \n",
      "License: new BSD\n",
      "Location: d:\\anaconda3\\lib\\site-packages\n",
      "Requires: joblib, numpy, scipy, threadpoolctl\n",
      "Required-by: sklearn, scikit-learn-intelex\n",
      "Note: you may need to restart the kernel to use updated packages.\n"
     ]
    }
   ],
   "source": [
    "pip show scikit-learn\n"
   ]
  }
 ],
 "metadata": {
  "kernelspec": {
   "display_name": "base",
   "language": "python",
   "name": "python3"
  },
  "language_info": {
   "codemirror_mode": {
    "name": "ipython",
    "version": 3
   },
   "file_extension": ".py",
   "mimetype": "text/x-python",
   "name": "python",
   "nbconvert_exporter": "python",
   "pygments_lexer": "ipython3",
   "version": "3.11.5"
  }
 },
 "nbformat": 4,
 "nbformat_minor": 2
}
