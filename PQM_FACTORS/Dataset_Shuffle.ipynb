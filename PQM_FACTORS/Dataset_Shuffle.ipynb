{
 "cells": [
  {
   "cell_type": "code",
   "execution_count": 1,
   "metadata": {},
   "outputs": [],
   "source": [
    "import csv\n",
    "import random\n",
    "\n",
    "def shuffle_csv_rows(input_file, output_file):\n",
    "    with open(input_file, 'r', newline='') as infile, \\\n",
    "         open(output_file, 'w', newline='') as outfile:\n",
    "\n",
    "        reader = csv.reader(infile)\n",
    "        writer = csv.writer(outfile)\n",
    "\n",
    "        # Preserve header row if present\n",
    "        header = next(reader)  # Read the first row (header)\n",
    "        data = list(reader)    # Read the remaining rows\n",
    "\n",
    "        random.shuffle(data)   # Shuffle the data rows\n",
    "\n",
    "        writer.writerow(header)  # Write the header back to the output file\n",
    "        writer.writerows(data)   # Write the shuffled data rows\n",
    "\n",
    "# Example usage:\n",
    "input_file = 'PQM_FACTORS_RAW.csv'\n",
    "output_file = 'PQM_FACTORS.csv'\n",
    "shuffle_csv_rows(input_file, output_file)\n"
   ]
  }
 ],
 "metadata": {
  "kernelspec": {
   "display_name": "base",
   "language": "python",
   "name": "python3"
  },
  "language_info": {
   "codemirror_mode": {
    "name": "ipython",
    "version": 3
   },
   "file_extension": ".py",
   "mimetype": "text/x-python",
   "name": "python",
   "nbconvert_exporter": "python",
   "pygments_lexer": "ipython3",
   "version": "3.11.5"
  }
 },
 "nbformat": 4,
 "nbformat_minor": 2
}
